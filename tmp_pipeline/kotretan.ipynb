{
 "cells": [
  {
   "cell_type": "code",
   "execution_count": 2,
   "metadata": {},
   "outputs": [],
   "source": [
    "import pandas as pd"
   ]
  },
  {
   "cell_type": "markdown",
   "metadata": {},
   "source": [
    "## Data Extraction"
   ]
  },
  {
   "cell_type": "code",
   "execution_count": null,
   "metadata": {},
   "outputs": [
    {
     "name": "stdout",
     "output_type": "stream",
     "text": [
      "Berhasil terhubung ke MySQL\n"
     ]
    }
   ],
   "source": [
    "import mysql.connector\n",
    "\n",
    "# Koneksi ke database MySQL\n",
    "connection = mysql.connector.connect(\n",
    "    host='127.0.0.1',  \n",
    "    user='user',  \n",
    "    password='password',\n",
    "    database='sales_db', \n",
    "    port=3307\n",
    ")\n",
    "\n",
    "# Periksa apakah koneksi berhasil\n",
    "if connection.is_connected():\n",
    "    print(\"Berhasil terhubung ke MySQL\")"
   ]
  },
  {
   "cell_type": "code",
   "execution_count": 4,
   "metadata": {},
   "outputs": [
    {
     "name": "stdout",
     "output_type": "stream",
     "text": [
      "('cache',)\n",
      "('cache_locks',)\n",
      "('failed_jobs',)\n",
      "('job_batches',)\n",
      "('jobs',)\n",
      "('migrations',)\n",
      "('order_items',)\n",
      "('orders',)\n",
      "('password_reset_tokens',)\n",
      "('products',)\n",
      "('sessions',)\n",
      "('users',)\n"
     ]
    },
    {
     "data": {
      "text/plain": [
       "True"
      ]
     },
     "execution_count": 4,
     "metadata": {},
     "output_type": "execute_result"
    }
   ],
   "source": [
    "cursor = connection.cursor()\n",
    "cursor.execute(\"SHOW TABLES\")\n",
    "\n",
    "# Menampilkan semua tabel\n",
    "for table in cursor.fetchall():\n",
    "    print(table)\n",
    "\n",
    "cursor.close()"
   ]
  },
  {
   "cell_type": "code",
   "execution_count": 28,
   "metadata": {},
   "outputs": [
    {
     "data": {
      "text/html": [
       "<div>\n",
       "<style scoped>\n",
       "    .dataframe tbody tr th:only-of-type {\n",
       "        vertical-align: middle;\n",
       "    }\n",
       "\n",
       "    .dataframe tbody tr th {\n",
       "        vertical-align: top;\n",
       "    }\n",
       "\n",
       "    .dataframe thead th {\n",
       "        text-align: right;\n",
       "    }\n",
       "</style>\n",
       "<table border=\"1\" class=\"dataframe\">\n",
       "  <thead>\n",
       "    <tr style=\"text-align: right;\">\n",
       "      <th></th>\n",
       "      <th>id</th>\n",
       "      <th>user_id</th>\n",
       "      <th>order_status</th>\n",
       "      <th>total_harga</th>\n",
       "      <th>created_at</th>\n",
       "      <th>updated_at</th>\n",
       "      <th>name</th>\n",
       "      <th>email</th>\n",
       "    </tr>\n",
       "  </thead>\n",
       "  <tbody>\n",
       "    <tr>\n",
       "      <th>0</th>\n",
       "      <td>31</td>\n",
       "      <td>12</td>\n",
       "      <td>Pesanan selesai</td>\n",
       "      <td>37000</td>\n",
       "      <td>2024-11-25 05:03:05</td>\n",
       "      <td>2024-11-25 05:04:42</td>\n",
       "      <td>akhmad1</td>\n",
       "      <td>akhmad1@gmail.com</td>\n",
       "    </tr>\n",
       "  </tbody>\n",
       "</table>\n",
       "</div>"
      ],
      "text/plain": [
       "   id  user_id     order_status  total_harga          created_at  \\\n",
       "0  31       12  Pesanan selesai        37000 2024-11-25 05:03:05   \n",
       "\n",
       "           updated_at     name              email  \n",
       "0 2024-11-25 05:04:42  akhmad1  akhmad1@gmail.com  "
      ]
     },
     "execution_count": 28,
     "metadata": {},
     "output_type": "execute_result"
    }
   ],
   "source": [
    "cursor = connection.cursor()\n",
    "cursor.execute(\"SELECT orders.*, users.name, users.email FROM orders JOIN users ON orders.user_id = users.id\")\n",
    "\n",
    "# Ambil semua hasil dari query\n",
    "results = cursor.fetchall()\n",
    "\n",
    "# Buat DataFrame dari hasil query\n",
    "df = pd.DataFrame(results, columns=[i[0] for i in cursor.description])\n",
    "\n",
    "# # Tampilkan Data\n",
    "df.head()"
   ]
  },
  {
   "cell_type": "code",
   "execution_count": null,
   "metadata": {},
   "outputs": [],
   "source": []
  }
 ],
 "metadata": {
  "kernelspec": {
   "display_name": "jcopml",
   "language": "python",
   "name": "python3"
  },
  "language_info": {
   "codemirror_mode": {
    "name": "ipython",
    "version": 3
   },
   "file_extension": ".py",
   "mimetype": "text/x-python",
   "name": "python",
   "nbconvert_exporter": "python",
   "pygments_lexer": "ipython3",
   "version": "3.9.0"
  }
 },
 "nbformat": 4,
 "nbformat_minor": 2
}
